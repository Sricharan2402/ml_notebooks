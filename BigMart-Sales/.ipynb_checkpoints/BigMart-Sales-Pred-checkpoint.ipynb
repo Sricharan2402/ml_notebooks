{
 "cells": [
  {
   "cell_type": "code",
   "execution_count": 57,
   "metadata": {},
   "outputs": [],
   "source": [
    "import matplotlib.pyplot as plt\n",
    "import pandas as pd\n",
    "import numpy as np\n",
    "import seaborn as sns\n",
    "import ppscore as pps\n",
    "import statsmodels.formula.api as sm\n",
    "import xgboost as xgb\n",
    "\n",
    "from sklearn.preprocessing import StandardScaler, LabelEncoder, OneHotEncoder, MinMaxScaler\n",
    "from sklearn.model_selection import train_test_split, RandomizedSearchCV, StratifiedKFold\n",
    "from scipy.stats import mode\n",
    "\n",
    "from sklearn.neighbors import KNeighborsRegressor\n",
    "from xgboost import XGBRegressor\n",
    "from sklearn.metrics import mean_absolute_error, mean_squared_error, r2_score\n",
    "from sklearn.compose import ColumnTransformer\n",
    "\n",
    "\n",
    "np.set_printoptions(threshold=np.inf)"
   ]
  },
  {
   "cell_type": "code",
   "execution_count": 8,
   "metadata": {
    "scrolled": true
   },
   "outputs": [
    {
     "data": {
      "text/plain": [
       "8523"
      ]
     },
     "execution_count": 8,
     "metadata": {},
     "output_type": "execute_result"
    }
   ],
   "source": [
    "train = pd.read_csv('Train.csv')\n",
    "test = pd.read_csv('Test.csv')\n",
    "\n",
    "df = pd.concat([train, test])\n",
    "len(train)"
   ]
  },
  {
   "cell_type": "code",
   "execution_count": 3,
   "metadata": {},
   "outputs": [],
   "source": [
    "df = pd.read_csv('Train.csv')"
   ]
  },
  {
   "cell_type": "code",
   "execution_count": 4,
   "metadata": {},
   "outputs": [],
   "source": [
    "piv = pd.pivot_table(df,  columns=['Outlet_Type'], values=['Outlet_Size'], aggfunc=(lambda x:mode(x)[0]) )\n",
    "missing_rows = df['Outlet_Size'].isnull() \n",
    "df.loc[missing_rows,'Outlet_Size'] = df.loc[missing_rows,'Outlet_Type'].apply(lambda x: piv[x])"
   ]
  },
  {
   "cell_type": "code",
   "execution_count": 11,
   "metadata": {},
   "outputs": [],
   "source": [
    "piv_weight = df.pivot_table(values = 'Item_Weight', columns='Item_Identifier')"
   ]
  },
  {
   "cell_type": "code",
   "execution_count": null,
   "metadata": {},
   "outputs": [],
   "source": [
    "total_weight_mean = df['Item_Weight'].dropna().values.mean()\n",
    "total_weight_mean"
   ]
  },
  {
   "cell_type": "code",
   "execution_count": 12,
   "metadata": {},
   "outputs": [
    {
     "name": "stdout",
     "output_type": "stream",
     "text": [
      "FDN52\n",
      "FDK57\n",
      "FDE52\n",
      "FDQ60\n"
     ]
    }
   ],
   "source": [
    "for i in df['Item_Identifier'].values:\n",
    "    if i not in piv_weight.columns:\n",
    "        print(i)"
   ]
  },
  {
   "cell_type": "code",
   "execution_count": 13,
   "metadata": {},
   "outputs": [],
   "source": [
    "df.loc[(df['Item_Identifier'] == 'FDN52')|(df['Item_Identifier'] == 'FDE52')|(df['Item_Identifier'] == 'FDK57')|(df['Item_Identifier'] == 'FDQ60'), 'Item_Weight'] = total_weight_mean"
   ]
  },
  {
   "cell_type": "code",
   "execution_count": 14,
   "metadata": {},
   "outputs": [],
   "source": [
    "missing_rows = df['Item_Weight'].isnull()"
   ]
  },
  {
   "cell_type": "code",
   "execution_count": 15,
   "metadata": {},
   "outputs": [],
   "source": [
    "df.loc[missing_rows, 'Item_Weight'] = df.loc[missing_rows, 'Item_Identifier'].apply(lambda row: piv_weight[row])"
   ]
  },
  {
   "cell_type": "code",
   "execution_count": 16,
   "metadata": {},
   "outputs": [],
   "source": [
    "fat_content_dict = {'LF': 'LF', 'low fat': 'LF', 'Low Fat': 'LF', 'reg': 'R', 'Regular': 'R'}"
   ]
  },
  {
   "cell_type": "code",
   "execution_count": 17,
   "metadata": {},
   "outputs": [],
   "source": [
    "df.loc[:, 'Item_Fat_Content'] = df.loc[:, 'Item_Fat_Content'].apply(lambda row: fat_content_dict[row])"
   ]
  },
  {
   "cell_type": "code",
   "execution_count": 18,
   "metadata": {},
   "outputs": [],
   "source": [
    "class_dict = {'FD': 'Food Items', 'DR': 'Drinks', 'NC': 'Non Consumables'}\n",
    "df['Item_Class'] = df['Item_Identifier'].apply(lambda row: row[:2]).map(class_dict)"
   ]
  },
  {
   "cell_type": "code",
   "execution_count": 19,
   "metadata": {},
   "outputs": [],
   "source": [
    "df.drop(columns=['Item_Identifier', 'Outlet_Identifier'], inplace = True)"
   ]
  },
  {
   "cell_type": "code",
   "execution_count": 21,
   "metadata": {},
   "outputs": [],
   "source": [
    "categ_cols = ['Item_Fat_Content','Item_Type', 'Outlet_Size', 'Outlet_Location_Type', 'Outlet_Type', 'Item_Class']\n",
    "num_col = ['Item_Weight', 'Item_Visibility', 'Item_MRP' ,'Outlet_Establishment_Year', 'Item_Outlet_Sales']\n",
    "\n",
    "cat_df = df[categ_cols]\n",
    "num_df = df[num_col]\n",
    "\n",
    "transformer = ColumnTransformer(transformers=[(\"OneHot\",OneHotEncoder(),categ_cols)],remainder='passthrough')\n",
    "cat_df = transformer.fit_transform(cat_df).toarray()\n",
    "\n",
    "mmscaler = MinMaxScaler()\n",
    "num_df = mmscaler.fit_transform(num_df)"
   ]
  },
  {
   "cell_type": "code",
   "execution_count": 22,
   "metadata": {},
   "outputs": [],
   "source": [
    "X = np.append(num_df, cat_df, axis = 1)"
   ]
  },
  {
   "cell_type": "code",
   "execution_count": 39,
   "metadata": {
    "scrolled": true
   },
   "outputs": [],
   "source": [
    "y = df.iloc[:, -2:-1].values"
   ]
  },
  {
   "cell_type": "code",
   "execution_count": 40,
   "metadata": {},
   "outputs": [],
   "source": [
    "X_train, X_test, y_train, y_test = train_test_split(X, y, test_size = 0.1, random_state = 0 )"
   ]
  },
  {
   "cell_type": "code",
   "execution_count": 73,
   "metadata": {},
   "outputs": [],
   "source": [
    "grid = {\n",
    "    'eta': .1,\n",
    "    'gamma': 0,\n",
    "    'max_depth': 4,\n",
    "    'subsample': 0.5,\n",
    "    'reg_lambda': 0.1,\n",
    "    'alpha': 0.5\n",
    "}"
   ]
  },
  {
   "cell_type": "code",
   "execution_count": 59,
   "metadata": {},
   "outputs": [],
   "source": [
    "xgbreg = XGBRegressor()"
   ]
  },
  {
   "cell_type": "code",
   "execution_count": 62,
   "metadata": {},
   "outputs": [],
   "source": [
    "data_dmatrix = xgb.DMatrix(data=X,label=y)"
   ]
  },
  {
   "cell_type": "code",
   "execution_count": 78,
   "metadata": {},
   "outputs": [],
   "source": [
    "cv_results = xgb.cv(dtrain=data_dmatrix, params=grid, nfold=3,\n",
    "                    num_boost_round=50,early_stopping_rounds=10,metrics=\"rmse\", as_pandas=True, seed=0)"
   ]
  },
  {
   "cell_type": "code",
   "execution_count": 80,
   "metadata": {},
   "outputs": [
    {
     "data": {
      "text/html": [
       "<div>\n",
       "<style scoped>\n",
       "    .dataframe tbody tr th:only-of-type {\n",
       "        vertical-align: middle;\n",
       "    }\n",
       "\n",
       "    .dataframe tbody tr th {\n",
       "        vertical-align: top;\n",
       "    }\n",
       "\n",
       "    .dataframe thead th {\n",
       "        text-align: right;\n",
       "    }\n",
       "</style>\n",
       "<table border=\"1\" class=\"dataframe\">\n",
       "  <thead>\n",
       "    <tr style=\"text-align: right;\">\n",
       "      <th></th>\n",
       "      <th>train-rmse-mean</th>\n",
       "      <th>train-rmse-std</th>\n",
       "      <th>test-rmse-mean</th>\n",
       "      <th>test-rmse-std</th>\n",
       "    </tr>\n",
       "  </thead>\n",
       "  <tbody>\n",
       "    <tr>\n",
       "      <th>0</th>\n",
       "      <td>2492.998291</td>\n",
       "      <td>12.799372</td>\n",
       "      <td>2492.755615</td>\n",
       "      <td>26.658620</td>\n",
       "    </tr>\n",
       "    <tr>\n",
       "      <th>1</th>\n",
       "      <td>2244.870768</td>\n",
       "      <td>11.230646</td>\n",
       "      <td>2244.802572</td>\n",
       "      <td>24.047221</td>\n",
       "    </tr>\n",
       "    <tr>\n",
       "      <th>2</th>\n",
       "      <td>2021.550578</td>\n",
       "      <td>10.052089</td>\n",
       "      <td>2021.458008</td>\n",
       "      <td>20.848370</td>\n",
       "    </tr>\n",
       "    <tr>\n",
       "      <th>3</th>\n",
       "      <td>1820.695557</td>\n",
       "      <td>8.986650</td>\n",
       "      <td>1820.317830</td>\n",
       "      <td>18.427176</td>\n",
       "    </tr>\n",
       "    <tr>\n",
       "      <th>4</th>\n",
       "      <td>1639.402303</td>\n",
       "      <td>8.060958</td>\n",
       "      <td>1639.024943</td>\n",
       "      <td>16.444024</td>\n",
       "    </tr>\n",
       "  </tbody>\n",
       "</table>\n",
       "</div>"
      ],
      "text/plain": [
       "   train-rmse-mean  train-rmse-std  test-rmse-mean  test-rmse-std\n",
       "0      2492.998291       12.799372     2492.755615      26.658620\n",
       "1      2244.870768       11.230646     2244.802572      24.047221\n",
       "2      2021.550578       10.052089     2021.458008      20.848370\n",
       "3      1820.695557        8.986650     1820.317830      18.427176\n",
       "4      1639.402303        8.060958     1639.024943      16.444024"
      ]
     },
     "execution_count": 80,
     "metadata": {},
     "output_type": "execute_result"
    }
   ],
   "source": [
    "cv_results.head()"
   ]
  },
  {
   "cell_type": "code",
   "execution_count": null,
   "metadata": {},
   "outputs": [],
   "source": []
  }
 ],
 "metadata": {
  "kernelspec": {
   "display_name": "Python 3",
   "language": "python",
   "name": "python3"
  },
  "language_info": {
   "codemirror_mode": {
    "name": "ipython",
    "version": 3
   },
   "file_extension": ".py",
   "mimetype": "text/x-python",
   "name": "python",
   "nbconvert_exporter": "python",
   "pygments_lexer": "ipython3",
   "version": "3.7.7"
  },
  "varInspector": {
   "cols": {
    "lenName": 16,
    "lenType": 16,
    "lenVar": 40
   },
   "kernels_config": {
    "python": {
     "delete_cmd_postfix": "",
     "delete_cmd_prefix": "del ",
     "library": "var_list.py",
     "varRefreshCmd": "print(var_dic_list())"
    },
    "r": {
     "delete_cmd_postfix": ") ",
     "delete_cmd_prefix": "rm(",
     "library": "var_list.r",
     "varRefreshCmd": "cat(var_dic_list()) "
    }
   },
   "position": {
    "height": "517.4px",
    "left": "690.575px",
    "right": "20px",
    "top": "88px",
    "width": "800px"
   },
   "types_to_exclude": [
    "module",
    "function",
    "builtin_function_or_method",
    "instance",
    "_Feature"
   ],
   "window_display": false
  }
 },
 "nbformat": 4,
 "nbformat_minor": 4
}
